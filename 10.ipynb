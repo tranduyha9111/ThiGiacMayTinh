{
 "cells": [
  {
   "cell_type": "code",
   "execution_count": 2,
   "id": "4bf42e65-4621-4976-ab83-22eac3189ac1",
   "metadata": {},
   "outputs": [],
   "source": [
    "from PIL import Image\n",
    "import matplotlib.pyplot as plt\n"
   ]
  },
  {
   "cell_type": "code",
   "execution_count": 5,
   "id": "d35661c8-0ba8-4dee-896b-c64a9eac7915",
   "metadata": {},
   "outputs": [
    {
     "name": "stdout",
     "output_type": "stream",
     "text": [
      "[(244.69480519480524, 142.53030303030312), (336.469696969697, 158.11471861471875), (514.8246753246754, 161.57792207792215), (724.3484848484849, 90.58225108225122), (975.430735930736, 121.75108225108238)]\n"
     ]
    }
   ],
   "source": [
    "my_path = 'C:/Users/trand/img/hun.jpg'\n",
    "im = Image.open(my_path)\n",
    "plt.switch_backend('tkagg')\n",
    "plt.imshow(im)\n",
    "plt.title('Click on the image to select points')\n",
    "points = plt.ginput(5)\n",
    "print(points)\n",
    "plt.show()"
   ]
  },
  {
   "cell_type": "code",
   "execution_count": 7,
   "id": "c0647d24-4452-4157-a907-469d7f629dbf",
   "metadata": {},
   "outputs": [],
   "source": [
    "plt.close()\n",
    "\n",
    "plt.imshow(im)\n",
    "for point in points:\n",
    "    x, y = point\n",
    "    plt.plot(x, y, 'r*')\n",
    "\n",
    "plt.show()"
   ]
  },
  {
   "cell_type": "code",
   "execution_count": null,
   "id": "ea182935-d34f-4394-9468-a6c986b92cc4",
   "metadata": {},
   "outputs": [],
   "source": []
  }
 ],
 "metadata": {
  "kernelspec": {
   "display_name": "Python 3 (ipykernel)",
   "language": "python",
   "name": "python3"
  },
  "language_info": {
   "codemirror_mode": {
    "name": "ipython",
    "version": 3
   },
   "file_extension": ".py",
   "mimetype": "text/x-python",
   "name": "python",
   "nbconvert_exporter": "python",
   "pygments_lexer": "ipython3",
   "version": "3.12.4"
  }
 },
 "nbformat": 4,
 "nbformat_minor": 5
}
